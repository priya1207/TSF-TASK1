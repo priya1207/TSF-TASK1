{
  "nbformat": 4,
  "nbformat_minor": 0,
  "metadata": {
    "colab": {
      "name": "TSF TASK-1.ipynb",
      "provenance": [],
      "authorship_tag": "ABX9TyNyOZKJn5AQ4gLQZ1ldAi4I",
      "include_colab_link": true
    },
    "kernelspec": {
      "name": "python3",
      "display_name": "Python 3"
    },
    "language_info": {
      "name": "python"
    }
  },
  "cells": [
    {
      "cell_type": "markdown",
      "metadata": {
        "id": "view-in-github",
        "colab_type": "text"
      },
      "source": [
        "<a href=\"https://colab.research.google.com/github/priya1207/TSF-TASK1/blob/main/TSF_TASK_1.ipynb\" target=\"_parent\"><img src=\"https://colab.research.google.com/assets/colab-badge.svg\" alt=\"Open In Colab\"/></a>"
      ]
    },
    {
      "cell_type": "markdown",
      "metadata": {
        "id": "fGKNp3eQQSLm"
      },
      "source": [
        "# The Sparks Foundation - Data Science & Business Analytics Internship\n",
        "\n",
        "# TASK 1 - Prediction using Supervised Machine Learning\n",
        "\n",
        "## AUTHOR : HARIPRIYA.S\n",
        "\n",
        "### In this task we need to predict the percentage of a student on the basis of number of hours studied using the \"Linear Regression\" supervised machine learning algorithm."
      ]
    },
    {
      "cell_type": "markdown",
      "metadata": {
        "id": "x3JWOK1cQbmC"
      },
      "source": [
        "### step 1 : import the dataset"
      ]
    },
    {
      "cell_type": "code",
      "metadata": {
        "colab": {
          "base_uri": "https://localhost:8080/"
        },
        "id": "_bd5Ep3wQYzf",
        "outputId": "0ac9ea3c-b26d-4b4a-972d-eb074329a797"
      },
      "source": [
        "import numpy as np\n",
        "import pandas as pd\n",
        "import matplotlib.pyplot as plt\n",
        "import seaborn as sns\n",
        "import scipy.stats as stats\n",
        "import statsmodels.formula.api as smf\n",
        "from sklearn.model_selection import train_test_split\n",
        "from sklearn.neighbors import KNeighborsClassifier"
      ],
      "execution_count": null,
      "outputs": [
        {
          "output_type": "stream",
          "text": [
            "/usr/local/lib/python3.7/dist-packages/statsmodels/tools/_testing.py:19: FutureWarning: pandas.util.testing is deprecated. Use the functions in the public API at pandas.testing instead.\n",
            "  import pandas.util.testing as tm\n"
          ],
          "name": "stderr"
        }
      ]
    },
    {
      "cell_type": "code",
      "metadata": {
        "colab": {
          "base_uri": "https://localhost:8080/",
          "height": 203
        },
        "id": "fNaB5xhVQk98",
        "outputId": "b9ed0356-90fe-4e18-cbee-ae627244a56c"
      },
      "source": [
        "df = pd.read_csv('https://raw.githubusercontent.com/AdiPersonalWorks/Random/master/student_scores%20-%20student_scores.csv')\n",
        "df.head()"
      ],
      "execution_count": null,
      "outputs": [
        {
          "output_type": "execute_result",
          "data": {
            "text/html": [
              "<div>\n",
              "<style scoped>\n",
              "    .dataframe tbody tr th:only-of-type {\n",
              "        vertical-align: middle;\n",
              "    }\n",
              "\n",
              "    .dataframe tbody tr th {\n",
              "        vertical-align: top;\n",
              "    }\n",
              "\n",
              "    .dataframe thead th {\n",
              "        text-align: right;\n",
              "    }\n",
              "</style>\n",
              "<table border=\"1\" class=\"dataframe\">\n",
              "  <thead>\n",
              "    <tr style=\"text-align: right;\">\n",
              "      <th></th>\n",
              "      <th>Hours</th>\n",
              "      <th>Scores</th>\n",
              "    </tr>\n",
              "  </thead>\n",
              "  <tbody>\n",
              "    <tr>\n",
              "      <th>0</th>\n",
              "      <td>2.5</td>\n",
              "      <td>21</td>\n",
              "    </tr>\n",
              "    <tr>\n",
              "      <th>1</th>\n",
              "      <td>5.1</td>\n",
              "      <td>47</td>\n",
              "    </tr>\n",
              "    <tr>\n",
              "      <th>2</th>\n",
              "      <td>3.2</td>\n",
              "      <td>27</td>\n",
              "    </tr>\n",
              "    <tr>\n",
              "      <th>3</th>\n",
              "      <td>8.5</td>\n",
              "      <td>75</td>\n",
              "    </tr>\n",
              "    <tr>\n",
              "      <th>4</th>\n",
              "      <td>3.5</td>\n",
              "      <td>30</td>\n",
              "    </tr>\n",
              "  </tbody>\n",
              "</table>\n",
              "</div>"
            ],
            "text/plain": [
              "   Hours  Scores\n",
              "0    2.5      21\n",
              "1    5.1      47\n",
              "2    3.2      27\n",
              "3    8.5      75\n",
              "4    3.5      30"
            ]
          },
          "metadata": {
            "tags": []
          },
          "execution_count": 3
        }
      ]
    },
    {
      "cell_type": "markdown",
      "metadata": {
        "id": "w7V36ZZZQ5Vy"
      },
      "source": [
        "\n",
        "###STEP 2 - Visualizing the dataset\n",
        "\n",
        "\n"
      ]
    },
    {
      "cell_type": "code",
      "metadata": {
        "colab": {
          "base_uri": "https://localhost:8080/",
          "height": 621
        },
        "id": "zo0opbzuQp0A",
        "outputId": "d58d6028-f77e-4917-d0dc-3cc699a492ea"
      },
      "source": [
        "plt.rcParams[\"figure.figsize\"] = [10,10]\n",
        "df.plot(x='Hours', y='Scores', style='.', color='red', markersize=10)\n",
        "plt.title('Hours vs Percentage')  \n",
        "plt.xlabel('Hours Studied')  \n",
        "plt.ylabel('Percentage Score')  \n",
        "plt.show()"
      ],
      "execution_count": null,
      "outputs": [
        {
          "output_type": "display_data",
          "data": {
            "image/png": "[encoded data removed]",
            "text/plain": [
              "<Figure size 720x720 with 1 Axes>"
            ]
          },
          "metadata": {
            "tags": [],
            "needs_background": "light"
          }
        }
      ]
    },
    {
      "cell_type": "markdown",
      "metadata": {
        "id": "WcVVYQiBSL9x"
      },
      "source": [
        "###STEP 3 - Pre-processing the data"
      ]
    },
    {
      "cell_type": "code",
      "metadata": {
        "id": "6ZU2OJzgSEay"
      },
      "source": [
        "X = df.iloc[:, :1].values  \n",
        "y = df.iloc[:, 1:].values"
      ],
      "execution_count": null,
      "outputs": []
    },
    {
      "cell_type": "markdown",
      "metadata": {
        "id": "fNlUjCrXSpwS"
      },
      "source": [
        "###STEP 4  - Training the Model"
      ]
    },
    {
      "cell_type": "code",
      "metadata": {
        "id": "1LmFCjlDSwuE"
      },
      "source": [
        "from sklearn.model_selection import train_test_split  \n",
        "X_train, X_test, y_train, y_test = train_test_split(X, y, \n",
        "                            test_size=0.2, random_state=0)"
      ],
      "execution_count": null,
      "outputs": []
    },
    {
      "cell_type": "code",
      "metadata": {
        "colab": {
          "base_uri": "https://localhost:8080/"
        },
        "id": "VZwwfXZhS9m0",
        "outputId": "72514f46-5e8f-4c73-82b6-6e0d67d0debf"
      },
      "source": [
        "from sklearn.linear_model import LinearRegression  \n",
        "\n",
        "model = LinearRegression()  \n",
        "model.fit(X_train, y_train)"
      ],
      "execution_count": null,
      "outputs": [
        {
          "output_type": "execute_result",
          "data": {
            "text/plain": [
              "LinearRegression(copy_X=True, fit_intercept=True, n_jobs=None, normalize=False)"
            ]
          },
          "metadata": {
            "tags": []
          },
          "execution_count": 15
        }
      ]
    },
    {
      "cell_type": "code",
      "metadata": {
        "colab": {
          "base_uri": "https://localhost:8080/"
        },
        "id": "RbXj9aWXTA6n",
        "outputId": "1e5da9fe-d087-4306-8292-2ff2e6a70f8d"
      },
      "source": [
        "LinearRegression()"
      ],
      "execution_count": null,
      "outputs": [
        {
          "output_type": "execute_result",
          "data": {
            "text/plain": [
              "LinearRegression(copy_X=True, fit_intercept=True, n_jobs=None, normalize=False)"
            ]
          },
          "metadata": {
            "tags": []
          },
          "execution_count": 16
        }
      ]
    },
    {
      "cell_type": "markdown",
      "metadata": {
        "id": "F-Vy4WtXTNtC"
      },
      "source": [
        "###step 5 - ploting linear Regression"
      ]
    },
    {
      "cell_type": "code",
      "metadata": {
        "colab": {
          "base_uri": "https://localhost:8080/",
          "height": 606
        },
        "id": "tLHlpc7_Tdto",
        "outputId": "1d8bbc7a-4303-464e-d31e-f28fa8535b33"
      },
      "source": [
        "#training data\n",
        "graph = model.coef_*X + model.intercept_\n",
        "plt.rcParams[\"figure.figsize\"] = [10,10]\n",
        "plt.scatter(X_train, y_train, color='black')\n",
        "plt.plot(X, graph, color='yellow');\n",
        "plt.xlabel('Hours Studied')  \n",
        "plt.ylabel('Percentage Score') \n",
        "plt.show()"
      ],
      "execution_count": null,
      "outputs": [
        {
          "output_type": "display_data",
          "data": {
            "image/png": "[encoded data removed]",
            "text/plain": [
              "<Figure size 720x720 with 1 Axes>"
            ]
          },
          "metadata": {
            "tags": [],
            "needs_background": "light"
          }
        }
      ]
    },
    {
      "cell_type": "code",
      "metadata": {
        "colab": {
          "base_uri": "https://localhost:8080/",
          "height": 606
        },
        "id": "H2eothzBUOp_",
        "outputId": "3ec95887-d88b-40b2-963f-2ab49f316458"
      },
      "source": [
        "#testing data\n",
        "plt.rcParams[\"figure.figsize\"] = [10,10]\n",
        "plt.scatter(X_test, y_test, color='yellow')\n",
        "plt.plot(X, graph, color='black');\n",
        "plt.xlabel('Hours Studied')  \n",
        "plt.ylabel('Percentage Score') \n",
        "plt.show()"
      ],
      "execution_count": null,
      "outputs": [
        {
          "output_type": "display_data",
          "data": {
            "image/png": "[encoded data removed]",
            "text/plain": [
              "<Figure size 720x720 with 1 Axes>"
            ]
          },
          "metadata": {
            "tags": [],
            "needs_background": "light"
          }
        }
      ]
    },
    {
      "cell_type": "markdown",
      "metadata": {
        "id": "weKX98hmUsw2"
      },
      "source": [
        "### Step 6 - Predictions "
      ]
    },
    {
      "cell_type": "code",
      "metadata": {
        "colab": {
          "base_uri": "https://localhost:8080/"
        },
        "id": "k12dtyzTU-DY",
        "outputId": "9e84b387-bec6-4786-e8ee-f6efeae58fde"
      },
      "source": [
        "print(X_test)\n",
        "y_pred = model.predict(X_test)"
      ],
      "execution_count": null,
      "outputs": [
        {
          "output_type": "stream",
          "text": [
            "[[1.5]\n",
            " [3.2]\n",
            " [7.4]\n",
            " [2.5]\n",
            " [5.9]]\n"
          ],
          "name": "stdout"
        }
      ]
    },
    {
      "cell_type": "code",
      "metadata": {
        "colab": {
          "base_uri": "https://localhost:8080/",
          "height": 80
        },
        "id": "cNYxLA2VVFgy",
        "outputId": "880c2ad0-090e-4bc1-d908-42b49d28593c"
      },
      "source": [
        "comp = pd.DataFrame({ 'Actual':[y_test],'Predicted':[y_pred] })\n",
        "comp"
      ],
      "execution_count": null,
      "outputs": [
        {
          "output_type": "execute_result",
          "data": {
            "text/html": [
              "<div>\n",
              "<style scoped>\n",
              "    .dataframe tbody tr th:only-of-type {\n",
              "        vertical-align: middle;\n",
              "    }\n",
              "\n",
              "    .dataframe tbody tr th {\n",
              "        vertical-align: top;\n",
              "    }\n",
              "\n",
              "    .dataframe thead th {\n",
              "        text-align: right;\n",
              "    }\n",
              "</style>\n",
              "<table border=\"1\" class=\"dataframe\">\n",
              "  <thead>\n",
              "    <tr style=\"text-align: right;\">\n",
              "      <th></th>\n",
              "      <th>Actual</th>\n",
              "      <th>Predicted</th>\n",
              "    </tr>\n",
              "  </thead>\n",
              "  <tbody>\n",
              "    <tr>\n",
              "      <th>0</th>\n",
              "      <td>[[20], [27], [69], [30], [62]]</td>\n",
              "      <td>[[16.884144762398023], [33.732260779489835], [...</td>\n",
              "    </tr>\n",
              "  </tbody>\n",
              "</table>\n",
              "</div>"
            ],
            "text/plain": [
              "                           Actual                                          Predicted\n",
              "0  [[20], [27], [69], [30], [62]]  [[16.884144762398023], [33.732260779489835], [..."
            ]
          },
          "metadata": {
            "tags": []
          },
          "execution_count": 24
        }
      ]
    },
    {
      "cell_type": "markdown",
      "metadata": {
        "id": "l-zpbqZ4VZKI"
      },
      "source": [
        "### Step 7 - Evaluating the Model "
      ]
    },
    {
      "cell_type": "code",
      "metadata": {
        "colab": {
          "base_uri": "https://localhost:8080/"
        },
        "id": "Is1sQx2lVgo5",
        "outputId": "2981624e-4756-4313-d6b4-f02b77e1cad1"
      },
      "source": [
        "from sklearn import metrics  \n",
        "print('Mean Absolute Error:',metrics.mean_absolute_error(y_test, y_pred)) \n",
        "print('Mean Squared Error:', metrics.mean_squared_error(y_test, y_pred))\n",
        "print('Root Mean Squared Error:', np.sqrt(metrics.mean_squared_error(y_test, y_pred)))\n",
        "print('R-2:', metrics.r2_score(y_test, y_pred))"
      ],
      "execution_count": null,
      "outputs": [
        {
          "output_type": "stream",
          "text": [
            "Mean Absolute Error: 4.183859899002982\n",
            "Mean Squared Error: 21.598769307217456\n",
            "Root Mean Squared Error: 4.647447612100373\n",
            "R-2: 0.9454906892105354\n"
          ],
          "name": "stdout"
        }
      ]
    }
  ]
}